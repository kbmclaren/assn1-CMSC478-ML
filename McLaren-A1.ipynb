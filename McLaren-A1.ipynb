{
 "cells": [
  {
   "cell_type": "markdown",
   "metadata": {},
   "source": [
    "# CMSC478 Machine Learning - Spring 2021 \n",
    "\n",
    "## Instructor: Fereydoon Vafaei\n",
    "\n",
    "### <font color=\"blue\">Assignment-1: Binary Classification - Stock Market Prediction</font>"
   ]
  },
  {
   "cell_type": "markdown",
   "metadata": {},
   "source": [
    "Caleb M. McLaren - CU01417 "
   ]
  },
  {
   "cell_type": "markdown",
   "metadata": {},
   "source": [
    "## Overview and Learning Objectives"
   ]
  },
  {
   "cell_type": "markdown",
   "metadata": {},
   "source": [
    "So far, you've learned very important fundamental concepts in Machine Learning such as supervised learning (e.g. classification and regression) vs unsupervised learning (e.g. clustering), overfitting, model evaluation, and performance measures (accuracy, precision, recall, AUC, MSE, etc.). You've learned that two of the most common approaches in supervised learning are regression and classification. In this assignment, you are going to practice what you've learned so far by building ML models and applying them on data.\n",
    "\n",
    "The ML task in this assignment is binary classification, stock market prediction, based on daily news dataset. \n",
    "\n",
    "<b>Very Important Note:</b> Read ALL the instructions in this notebook very carefully. Careless reading and skipping instructions are major sources of making mistakes and losing points in your assignments! Also notice that this assignment has three parts and includes multiple steps and questions. You're strongly recommended to get started early and plan to finish well before the due date. Technical problems or other issues/questions on the due date or just a day before would NOT be accepted as an excuse for extension. As stated in the policy, ALL assignments are indvidual tasks and students are strictly prohibited from collaboration on assignments. Students are responsible to debug the code and resolve any errors that may arise. Students should NOT share any answer, solution, or code/snippet with other students. Violations of these policies would be penalized according to UMBC academic integrity policy."
   ]
  },
  {
   "cell_type": "markdown",
   "metadata": {},
   "source": [
    "Pedagogically, this assignment will help you:\n",
    "- better understand the concepts you learned and how to use ML methods in practice. \n",
    "- learn how to work with ML libraries: Scikit-learn and XGBoost\n",
    "- practice reading documentation. This is a very important skill in ML/Data Science collaborative environments and teams."
   ]
  },
  {
   "cell_type": "markdown",
   "metadata": {},
   "source": [
    "Wherever needed, you should replace `...` elipsis with your code. `...` may indicate one or more lines of missing codes. Some outputs are provided to you to use as reference and verify that your output is correct."
   ]
  },
  {
   "cell_type": "markdown",
   "metadata": {},
   "source": [
    "## Part I - Preprocessing"
   ]
  },
  {
   "cell_type": "markdown",
   "metadata": {},
   "source": [
    "The first thing to do is downloading the [Daily News for Stock Market Prediction](https://www.kaggle.com/aaron7sun/stocknews) dataset. Read the feature specifications in Kaggle page to learn more about the data. The target label is `Label` which has two labels {0,1} representing:\n",
    "- \"1\" when DJIA Adj Close value rose or stayed as the same;\n",
    "\n",
    "- \"0\" when DJIA Adj Close value decreased."
   ]
  },
  {
   "cell_type": "markdown",
   "metadata": {},
   "source": [
    "You should save and extract the data in the same working directory as your notebook. Next, you should import the necessary moduels and load the data using `pandas`.\n",
    "\n",
    "You should also install [XGBoost](https://xgboost.readthedocs.io/en/latest/build.html). XGBoost is an efficient algorithm from the category of ensemble methods, i.e. a collection of predictors that work collaboratively to make predictions. You''l learn about ensemble methods more in the upcoming contents of this course."
   ]
  },
  {
   "cell_type": "code",
   "execution_count": 11,
   "metadata": {},
   "outputs": [],
   "source": [
    "# Import necessary modules\n",
    "import pandas as pd\n",
    "import numpy as np\n",
    "import matplotlib.pyplot as plt\n",
    "%matplotlib inline\n",
    "\n",
    "from sklearn.feature_extraction.text import CountVectorizer\n",
    "from sklearn.ensemble import RandomForestClassifier\n",
    "from sklearn.metrics import classification_report,confusion_matrix,accuracy_score\n",
    "import sklearn.metrics as metrics\n",
    "from sklearn.model_selection import GridSearchCV\n",
    "\n",
    "from xgboost import XGBClassifier\n",
    "\n",
    "import warnings\n",
    "warnings.filterwarnings('ignore')"
   ]
  },
  {
   "cell_type": "markdown",
   "metadata": {},
   "source": [
    "> Load the `Combined_News_DJIA.csv` dataset using pandas [`read_csv()`](https://pandas.pydata.org/pandas-docs/stable/reference/api/pandas.read_csv.html) method."
   ]
  },
  {
   "cell_type": "code",
   "execution_count": 12,
   "metadata": {},
   "outputs": [
    {
     "data": {
      "text/html": [
       "<div>\n",
       "<style scoped>\n",
       "    .dataframe tbody tr th:only-of-type {\n",
       "        vertical-align: middle;\n",
       "    }\n",
       "\n",
       "    .dataframe tbody tr th {\n",
       "        vertical-align: top;\n",
       "    }\n",
       "\n",
       "    .dataframe thead th {\n",
       "        text-align: right;\n",
       "    }\n",
       "</style>\n",
       "<table border=\"1\" class=\"dataframe\">\n",
       "  <thead>\n",
       "    <tr style=\"text-align: right;\">\n",
       "      <th></th>\n",
       "      <th>Date</th>\n",
       "      <th>Label</th>\n",
       "      <th>Top1</th>\n",
       "      <th>Top2</th>\n",
       "      <th>Top3</th>\n",
       "      <th>Top4</th>\n",
       "      <th>Top5</th>\n",
       "      <th>Top6</th>\n",
       "      <th>Top7</th>\n",
       "      <th>Top8</th>\n",
       "      <th>...</th>\n",
       "      <th>Top16</th>\n",
       "      <th>Top17</th>\n",
       "      <th>Top18</th>\n",
       "      <th>Top19</th>\n",
       "      <th>Top20</th>\n",
       "      <th>Top21</th>\n",
       "      <th>Top22</th>\n",
       "      <th>Top23</th>\n",
       "      <th>Top24</th>\n",
       "      <th>Top25</th>\n",
       "    </tr>\n",
       "  </thead>\n",
       "  <tbody>\n",
       "    <tr>\n",
       "      <th>0</th>\n",
       "      <td>2008-08-08</td>\n",
       "      <td>0</td>\n",
       "      <td>b\"Georgia 'downs two Russian warplanes' as cou...</td>\n",
       "      <td>b'BREAKING: Musharraf to be impeached.'</td>\n",
       "      <td>b'Russia Today: Columns of troops roll into So...</td>\n",
       "      <td>b'Russian tanks are moving towards the capital...</td>\n",
       "      <td>b\"Afghan children raped with 'impunity,' U.N. ...</td>\n",
       "      <td>b'150 Russian tanks have entered South Ossetia...</td>\n",
       "      <td>b\"Breaking: Georgia invades South Ossetia, Rus...</td>\n",
       "      <td>b\"The 'enemy combatent' trials are nothing but...</td>\n",
       "      <td>...</td>\n",
       "      <td>b'Georgia Invades South Ossetia - if Russia ge...</td>\n",
       "      <td>b'Al-Qaeda Faces Islamist Backlash'</td>\n",
       "      <td>b'Condoleezza Rice: \"The US would not act to p...</td>\n",
       "      <td>b'This is a busy day:  The European Union has ...</td>\n",
       "      <td>b\"Georgia will withdraw 1,000 soldiers from Ir...</td>\n",
       "      <td>b'Why the Pentagon Thinks Attacking Iran is a ...</td>\n",
       "      <td>b'Caucasus in crisis: Georgia invades South Os...</td>\n",
       "      <td>b'Indian shoe manufactory  - And again in a se...</td>\n",
       "      <td>b'Visitors Suffering from Mental Illnesses Ban...</td>\n",
       "      <td>b\"No Help for Mexico's Kidnapping Surge\"</td>\n",
       "    </tr>\n",
       "    <tr>\n",
       "      <th>1</th>\n",
       "      <td>2008-08-11</td>\n",
       "      <td>1</td>\n",
       "      <td>b'Why wont America and Nato help us? If they w...</td>\n",
       "      <td>b'Bush puts foot down on Georgian conflict'</td>\n",
       "      <td>b\"Jewish Georgian minister: Thanks to Israeli ...</td>\n",
       "      <td>b'Georgian army flees in disarray as Russians ...</td>\n",
       "      <td>b\"Olympic opening ceremony fireworks 'faked'\"</td>\n",
       "      <td>b'What were the Mossad with fraudulent New Zea...</td>\n",
       "      <td>b'Russia angered by Israeli military sale to G...</td>\n",
       "      <td>b'An American citizen living in S.Ossetia blam...</td>\n",
       "      <td>...</td>\n",
       "      <td>b'Israel and the US behind the Georgian aggres...</td>\n",
       "      <td>b'\"Do not believe TV, neither Russian nor Geor...</td>\n",
       "      <td>b'Riots are still going on in Montreal (Canada...</td>\n",
       "      <td>b'China to overtake US as largest manufacturer'</td>\n",
       "      <td>b'War in South Ossetia [PICS]'</td>\n",
       "      <td>b'Israeli Physicians Group Condemns State Tort...</td>\n",
       "      <td>b' Russia has just beaten the United States ov...</td>\n",
       "      <td>b'Perhaps *the* question about the Georgia - R...</td>\n",
       "      <td>b'Russia is so much better at war'</td>\n",
       "      <td>b\"So this is what it's come to: trading sex fo...</td>\n",
       "    </tr>\n",
       "    <tr>\n",
       "      <th>2</th>\n",
       "      <td>2008-08-12</td>\n",
       "      <td>0</td>\n",
       "      <td>b'Remember that adorable 9-year-old who sang a...</td>\n",
       "      <td>b\"Russia 'ends Georgia operation'\"</td>\n",
       "      <td>b'\"If we had no sexual harassment we would hav...</td>\n",
       "      <td>b\"Al-Qa'eda is losing support in Iraq because ...</td>\n",
       "      <td>b'Ceasefire in Georgia: Putin Outmaneuvers the...</td>\n",
       "      <td>b'Why Microsoft and Intel tried to kill the XO...</td>\n",
       "      <td>b'Stratfor: The Russo-Georgian War and the Bal...</td>\n",
       "      <td>b\"I'm Trying to Get a Sense of This Whole Geor...</td>\n",
       "      <td>...</td>\n",
       "      <td>b'U.S. troops still in Georgia (did you know t...</td>\n",
       "      <td>b'Why Russias response to Georgia was right'</td>\n",
       "      <td>b'Gorbachev accuses U.S. of making a \"serious ...</td>\n",
       "      <td>b'Russia, Georgia, and NATO: Cold War Two'</td>\n",
       "      <td>b'Remember that adorable 62-year-old who led y...</td>\n",
       "      <td>b'War in Georgia: The Israeli connection'</td>\n",
       "      <td>b'All signs point to the US encouraging Georgi...</td>\n",
       "      <td>b'Christopher King argues that the US and NATO...</td>\n",
       "      <td>b'America: The New Mexico?'</td>\n",
       "      <td>b\"BBC NEWS | Asia-Pacific | Extinction 'by man...</td>\n",
       "    </tr>\n",
       "    <tr>\n",
       "      <th>3</th>\n",
       "      <td>2008-08-13</td>\n",
       "      <td>0</td>\n",
       "      <td>b' U.S. refuses Israel weapons to attack Iran:...</td>\n",
       "      <td>b\"When the president ordered to attack Tskhinv...</td>\n",
       "      <td>b' Israel clears troops who killed Reuters cam...</td>\n",
       "      <td>b'Britain\\'s policy of being tough on drugs is...</td>\n",
       "      <td>b'Body of 14 year old found in trunk; Latest (...</td>\n",
       "      <td>b'China has moved 10 *million* quake survivors...</td>\n",
       "      <td>b\"Bush announces Operation Get All Up In Russi...</td>\n",
       "      <td>b'Russian forces sink Georgian ships '</td>\n",
       "      <td>...</td>\n",
       "      <td>b'Elephants extinct by 2020?'</td>\n",
       "      <td>b'US humanitarian missions soon in Georgia - i...</td>\n",
       "      <td>b\"Georgia's DDOS came from US sources\"</td>\n",
       "      <td>b'Russian convoy heads into Georgia, violating...</td>\n",
       "      <td>b'Israeli defence minister: US against strike ...</td>\n",
       "      <td>b'Gorbachev: We Had No Choice'</td>\n",
       "      <td>b'Witness: Russian forces head towards Tbilisi...</td>\n",
       "      <td>b' Quarter of Russians blame U.S. for conflict...</td>\n",
       "      <td>b'Georgian president  says US military will ta...</td>\n",
       "      <td>b'2006: Nobel laureate Aleksander Solzhenitsyn...</td>\n",
       "    </tr>\n",
       "    <tr>\n",
       "      <th>4</th>\n",
       "      <td>2008-08-14</td>\n",
       "      <td>1</td>\n",
       "      <td>b'All the experts admit that we should legalis...</td>\n",
       "      <td>b'War in South Osetia - 89 pictures made by a ...</td>\n",
       "      <td>b'Swedish wrestler Ara Abrahamian throws away ...</td>\n",
       "      <td>b'Russia exaggerated the death toll in South O...</td>\n",
       "      <td>b'Missile That Killed 9 Inside Pakistan May Ha...</td>\n",
       "      <td>b\"Rushdie Condemns Random House's Refusal to P...</td>\n",
       "      <td>b'Poland and US agree to missle defense deal. ...</td>\n",
       "      <td>b'Will the Russians conquer Tblisi? Bet on it,...</td>\n",
       "      <td>...</td>\n",
       "      <td>b'Bank analyst forecast Georgian crisis 2 days...</td>\n",
       "      <td>b\"Georgia confict could set back Russia's US r...</td>\n",
       "      <td>b'War in the Caucasus is as much the product o...</td>\n",
       "      <td>b'\"Non-media\" photos of South Ossetia/Georgia ...</td>\n",
       "      <td>b'Georgian TV reporter shot by Russian sniper ...</td>\n",
       "      <td>b'Saudi Arabia: Mother moves to block child ma...</td>\n",
       "      <td>b'Taliban wages war on humanitarian aid workers'</td>\n",
       "      <td>b'Russia: World  \"can forget about\" Georgia\\'s...</td>\n",
       "      <td>b'Darfur rebels accuse Sudan of mounting major...</td>\n",
       "      <td>b'Philippines : Peace Advocate say Muslims nee...</td>\n",
       "    </tr>\n",
       "  </tbody>\n",
       "</table>\n",
       "<p>5 rows × 27 columns</p>\n",
       "</div>"
      ],
      "text/plain": [
       "         Date  Label                                               Top1  \\\n",
       "0  2008-08-08      0  b\"Georgia 'downs two Russian warplanes' as cou...   \n",
       "1  2008-08-11      1  b'Why wont America and Nato help us? If they w...   \n",
       "2  2008-08-12      0  b'Remember that adorable 9-year-old who sang a...   \n",
       "3  2008-08-13      0  b' U.S. refuses Israel weapons to attack Iran:...   \n",
       "4  2008-08-14      1  b'All the experts admit that we should legalis...   \n",
       "\n",
       "                                                Top2  \\\n",
       "0            b'BREAKING: Musharraf to be impeached.'   \n",
       "1        b'Bush puts foot down on Georgian conflict'   \n",
       "2                 b\"Russia 'ends Georgia operation'\"   \n",
       "3  b\"When the president ordered to attack Tskhinv...   \n",
       "4  b'War in South Osetia - 89 pictures made by a ...   \n",
       "\n",
       "                                                Top3  \\\n",
       "0  b'Russia Today: Columns of troops roll into So...   \n",
       "1  b\"Jewish Georgian minister: Thanks to Israeli ...   \n",
       "2  b'\"If we had no sexual harassment we would hav...   \n",
       "3  b' Israel clears troops who killed Reuters cam...   \n",
       "4  b'Swedish wrestler Ara Abrahamian throws away ...   \n",
       "\n",
       "                                                Top4  \\\n",
       "0  b'Russian tanks are moving towards the capital...   \n",
       "1  b'Georgian army flees in disarray as Russians ...   \n",
       "2  b\"Al-Qa'eda is losing support in Iraq because ...   \n",
       "3  b'Britain\\'s policy of being tough on drugs is...   \n",
       "4  b'Russia exaggerated the death toll in South O...   \n",
       "\n",
       "                                                Top5  \\\n",
       "0  b\"Afghan children raped with 'impunity,' U.N. ...   \n",
       "1      b\"Olympic opening ceremony fireworks 'faked'\"   \n",
       "2  b'Ceasefire in Georgia: Putin Outmaneuvers the...   \n",
       "3  b'Body of 14 year old found in trunk; Latest (...   \n",
       "4  b'Missile That Killed 9 Inside Pakistan May Ha...   \n",
       "\n",
       "                                                Top6  \\\n",
       "0  b'150 Russian tanks have entered South Ossetia...   \n",
       "1  b'What were the Mossad with fraudulent New Zea...   \n",
       "2  b'Why Microsoft and Intel tried to kill the XO...   \n",
       "3  b'China has moved 10 *million* quake survivors...   \n",
       "4  b\"Rushdie Condemns Random House's Refusal to P...   \n",
       "\n",
       "                                                Top7  \\\n",
       "0  b\"Breaking: Georgia invades South Ossetia, Rus...   \n",
       "1  b'Russia angered by Israeli military sale to G...   \n",
       "2  b'Stratfor: The Russo-Georgian War and the Bal...   \n",
       "3  b\"Bush announces Operation Get All Up In Russi...   \n",
       "4  b'Poland and US agree to missle defense deal. ...   \n",
       "\n",
       "                                                Top8  ...  \\\n",
       "0  b\"The 'enemy combatent' trials are nothing but...  ...   \n",
       "1  b'An American citizen living in S.Ossetia blam...  ...   \n",
       "2  b\"I'm Trying to Get a Sense of This Whole Geor...  ...   \n",
       "3             b'Russian forces sink Georgian ships '  ...   \n",
       "4  b'Will the Russians conquer Tblisi? Bet on it,...  ...   \n",
       "\n",
       "                                               Top16  \\\n",
       "0  b'Georgia Invades South Ossetia - if Russia ge...   \n",
       "1  b'Israel and the US behind the Georgian aggres...   \n",
       "2  b'U.S. troops still in Georgia (did you know t...   \n",
       "3                      b'Elephants extinct by 2020?'   \n",
       "4  b'Bank analyst forecast Georgian crisis 2 days...   \n",
       "\n",
       "                                               Top17  \\\n",
       "0                b'Al-Qaeda Faces Islamist Backlash'   \n",
       "1  b'\"Do not believe TV, neither Russian nor Geor...   \n",
       "2       b'Why Russias response to Georgia was right'   \n",
       "3  b'US humanitarian missions soon in Georgia - i...   \n",
       "4  b\"Georgia confict could set back Russia's US r...   \n",
       "\n",
       "                                               Top18  \\\n",
       "0  b'Condoleezza Rice: \"The US would not act to p...   \n",
       "1  b'Riots are still going on in Montreal (Canada...   \n",
       "2  b'Gorbachev accuses U.S. of making a \"serious ...   \n",
       "3             b\"Georgia's DDOS came from US sources\"   \n",
       "4  b'War in the Caucasus is as much the product o...   \n",
       "\n",
       "                                               Top19  \\\n",
       "0  b'This is a busy day:  The European Union has ...   \n",
       "1    b'China to overtake US as largest manufacturer'   \n",
       "2         b'Russia, Georgia, and NATO: Cold War Two'   \n",
       "3  b'Russian convoy heads into Georgia, violating...   \n",
       "4  b'\"Non-media\" photos of South Ossetia/Georgia ...   \n",
       "\n",
       "                                               Top20  \\\n",
       "0  b\"Georgia will withdraw 1,000 soldiers from Ir...   \n",
       "1                     b'War in South Ossetia [PICS]'   \n",
       "2  b'Remember that adorable 62-year-old who led y...   \n",
       "3  b'Israeli defence minister: US against strike ...   \n",
       "4  b'Georgian TV reporter shot by Russian sniper ...   \n",
       "\n",
       "                                               Top21  \\\n",
       "0  b'Why the Pentagon Thinks Attacking Iran is a ...   \n",
       "1  b'Israeli Physicians Group Condemns State Tort...   \n",
       "2          b'War in Georgia: The Israeli connection'   \n",
       "3                     b'Gorbachev: We Had No Choice'   \n",
       "4  b'Saudi Arabia: Mother moves to block child ma...   \n",
       "\n",
       "                                               Top22  \\\n",
       "0  b'Caucasus in crisis: Georgia invades South Os...   \n",
       "1  b' Russia has just beaten the United States ov...   \n",
       "2  b'All signs point to the US encouraging Georgi...   \n",
       "3  b'Witness: Russian forces head towards Tbilisi...   \n",
       "4   b'Taliban wages war on humanitarian aid workers'   \n",
       "\n",
       "                                               Top23  \\\n",
       "0  b'Indian shoe manufactory  - And again in a se...   \n",
       "1  b'Perhaps *the* question about the Georgia - R...   \n",
       "2  b'Christopher King argues that the US and NATO...   \n",
       "3  b' Quarter of Russians blame U.S. for conflict...   \n",
       "4  b'Russia: World  \"can forget about\" Georgia\\'s...   \n",
       "\n",
       "                                               Top24  \\\n",
       "0  b'Visitors Suffering from Mental Illnesses Ban...   \n",
       "1                 b'Russia is so much better at war'   \n",
       "2                        b'America: The New Mexico?'   \n",
       "3  b'Georgian president  says US military will ta...   \n",
       "4  b'Darfur rebels accuse Sudan of mounting major...   \n",
       "\n",
       "                                               Top25  \n",
       "0           b\"No Help for Mexico's Kidnapping Surge\"  \n",
       "1  b\"So this is what it's come to: trading sex fo...  \n",
       "2  b\"BBC NEWS | Asia-Pacific | Extinction 'by man...  \n",
       "3  b'2006: Nobel laureate Aleksander Solzhenitsyn...  \n",
       "4  b'Philippines : Peace Advocate say Muslims nee...  \n",
       "\n",
       "[5 rows x 27 columns]"
      ]
     },
     "execution_count": 12,
     "metadata": {},
     "output_type": "execute_result"
    }
   ],
   "source": [
    "# Load the dataset\n",
    "data = pd.read_csv(\"./archive/Combined_News_DJIA.csv\")\n",
    "\n",
    "# Show the first five rows\n",
    "data.head()"
   ]
  },
  {
   "cell_type": "markdown",
   "metadata": {},
   "source": [
    "> Let's see what the type of `data` is."
   ]
  },
  {
   "cell_type": "code",
   "execution_count": 13,
   "metadata": {},
   "outputs": [
    {
     "data": {
      "text/plain": [
       "pandas.core.frame.DataFrame"
      ]
     },
     "execution_count": 13,
     "metadata": {},
     "output_type": "execute_result"
    }
   ],
   "source": [
    "type(data)"
   ]
  },
  {
   "cell_type": "markdown",
   "metadata": {},
   "source": [
    "`DataFrame` is a data structure to contain datasets in pandas. Read pandas documentation to learn more about it [here](https://pandas.pydata.org/docs/user_guide/10min.html#min) and [here](https://pandas.pydata.org/pandas-docs/stable/reference/api/pandas.DataFrame.html). Since this is a binary classification (supervised learning) ML model, you have both the features and the labels for training and testing, and everything has been stored in `data` DataFrame. "
   ]
  },
  {
   "cell_type": "markdown",
   "metadata": {},
   "source": [
    ">You should always check whether your dataset contains `NA` or `Null` values and decide what to do about it."
   ]
  },
  {
   "cell_type": "code",
   "execution_count": 14,
   "metadata": {},
   "outputs": [
    {
     "name": "stdout",
     "output_type": "stream",
     "text": [
      "           Date  Label                                               Top1  \\\n",
      "277  2009-09-15      1  b'The Church of Scientology won\\'t be dissolve...   \n",
      "348  2009-12-24      1  b'Woman knocks down Pope Benedict at Christmas...   \n",
      "681  2011-04-21      1  Director of \"Restrepo\" and Photographer Chris ...   \n",
      "\n",
      "                                                  Top2  \\\n",
      "277  b'New virus from rats can kill 80 per cent of ...   \n",
      "348  b'Ugandan President Museveni says he will bloc...   \n",
      "681  Everyone within 20km of Fukushima will be forc...   \n",
      "\n",
      "                                                  Top3  \\\n",
      "277  b'The gruesome spectacle of dolphins being sla...   \n",
      "348  b\"Venezuela's Chavez threatens to kick out car...   \n",
      "681  Bahrain: Activist Zaynab Al-Khawaja's letter t...   \n",
      "\n",
      "                                                  Top4  \\\n",
      "277  b'The End of Innocence in Afghanistan: \\'The G...   \n",
      "348  b'Woman who knocked down pope had pasta in her...   \n",
      "681  More than 80,000 people are claiming incapacit...   \n",
      "\n",
      "                                                  Top5  \\\n",
      "277            b'France approves Internet piracy bill'   \n",
      "348  b'450 people from 21 countries, including 30 f...   \n",
      "681  Libya: 'mission creep' claims as UK sends in m...   \n",
      "\n",
      "                                                  Top6  \\\n",
      "277  b'The Rural Doctors Association says right now...   \n",
      "348  b'Chvez declares Angel Falls is no more: World...   \n",
      "681  Japan considers banning access to evacuation zone   \n",
      "\n",
      "                                                  Top7  \\\n",
      "277  b'Al Jazeera English - Africa - Shabab to aven...   \n",
      "348             b'Drug tests catch out 10 police (UK)'   \n",
      "681  Chinese oil giant Sinopec has stopped exportin...   \n",
      "\n",
      "                                                  Top8  ...  \\\n",
      "277  b\"How Sri Lanka governs through detentions - S...  ...   \n",
      "348  b'Once the worlds fourth-largest lake, the Ara...  ...   \n",
      "681  6.0-magnitude earthquake strikes off east coas...  ...   \n",
      "\n",
      "                                                 Top16  \\\n",
      "277  b'In an equine echo of the controversy surroun...   \n",
      "348  b'Pig farts spark Australia gas scare - I shit...   \n",
      "681  Russian migration official fired in racism row...   \n",
      "\n",
      "                                                 Top17  \\\n",
      "277  b'UPDATE: 5-New York homes raided in terrorism...   \n",
      "348  b'Bin Laden daughter flees to Saudi embassy in...   \n",
      "681  Small amounts of radioactive iodine found in b...   \n",
      "\n",
      "                                                 Top18  \\\n",
      "277  b'Population Growth Impeding Progress on the M...   \n",
      "348  b'Traumatic Brain Injuries:  Growing evidence ...   \n",
      "681  War photographer, Oscar-nominated film directo...   \n",
      "\n",
      "                                                 Top19  \\\n",
      "277    b'Global Population to Reach 7 Billion by 2011'   \n",
      "348  b'The Pakistan Supreme Court has ordered the P...   \n",
      "681  Effeminate boys are being sent to a special ca...   \n",
      "\n",
      "                                                 Top20  \\\n",
      "277                b'Government Funded Feminist Porn '   \n",
      "348  b\"Here's a video the Taliban released this mor...   \n",
      "681  Japan Government Declares 12-Mile Area Around ...   \n",
      "\n",
      "                                                 Top21  \\\n",
      "277  b'Can someone enlighten me re:Holy Land disput...   \n",
      "348               b'Fireworks set off aboard airliner'   \n",
      "681  TEPCO admitted Wednesday that nuclear fuel in ...   \n",
      "\n",
      "                                                 Top22  \\\n",
      "277  b'Human Rights Watch official suspended for co...   \n",
      "348  b'Five VA men may face terrorism charges, Paki...   \n",
      "681  Fukushima evacuees face arrest if they return ...   \n",
      "\n",
      "                                                 Top23 Top24 Top25  \n",
      "277                                                NaN   NaN   NaN  \n",
      "348  b\"Ayatollah Montazeri's Legacy:  In death he m...   NaN   NaN  \n",
      "681          Prince Charles wins some kind of a record   NaN   NaN  \n",
      "\n",
      "[3 rows x 27 columns]\n"
     ]
    }
   ],
   "source": [
    "# Check if there is any na values in data\n",
    "dataCheckNull = data[data.isna().any(axis=1)]\n",
    "print(dataCheckNull)"
   ]
  },
  {
   "cell_type": "markdown",
   "metadata": {},
   "source": [
    "> The easiest way to get rid of `NA`s is to drop them. However, there are sometimes better alternatives. In this case, you should fill the na values with the median of the values of the other records in the same column, so the na values in `data['Top23']` will be filled with the median of `data['Top23']` and so on. You can use pandas [`fillna()`](https://pandas.pydata.org/pandas-docs/stable/reference/api/pandas.DataFrame.fillna.html) method. Make sure to apply the change permanently by setting `inplace=True`."
   ]
  },
  {
   "cell_type": "code",
   "execution_count": 15,
   "metadata": {},
   "outputs": [],
   "source": [
    "# Fill the na values with median \n",
    "data['Top23'].fillna(method='ffill', inplace = True) "
   ]
  },
  {
   "cell_type": "code",
   "execution_count": 16,
   "metadata": {},
   "outputs": [],
   "source": [
    "data['Top24'].fillna(method='ffill', inplace = True)"
   ]
  },
  {
   "cell_type": "code",
   "execution_count": 17,
   "metadata": {},
   "outputs": [],
   "source": [
    "data['Top25'].fillna(method='ffill', inplace = True)"
   ]
  },
  {
   "cell_type": "code",
   "execution_count": 18,
   "metadata": {},
   "outputs": [
    {
     "name": "stdout",
     "output_type": "stream",
     "text": [
      "Empty DataFrame\n",
      "Columns: [Date, Label, Top1, Top2, Top3, Top4, Top5, Top6, Top7, Top8, Top9, Top10, Top11, Top12, Top13, Top14, Top15, Top16, Top17, Top18, Top19, Top20, Top21, Top22, Top23, Top24, Top25]\n",
      "Index: []\n",
      "\n",
      "[0 rows x 27 columns]\n"
     ]
    }
   ],
   "source": [
    "# Double-check that there is no NAs anymore\n",
    "dataCheckNull = data[data.isna().any(axis=1)]\n",
    "print(dataCheckNull)"
   ]
  },
  {
   "cell_type": "markdown",
   "metadata": {},
   "source": [
    "As mentioned in the lectures, the data for supervised learning (both classification and regression) is split into training set and test set. We usually do this by importing [`train_test_split()`](https://scikit-learn.org/stable/modules/generated/sklearn.model_selection.train_test_split.html) module from scikit-learn. However, for this partuclar probem, we partition the records into train and test based on `Date`."
   ]
  },
  {
   "cell_type": "code",
   "execution_count": 19,
   "metadata": {},
   "outputs": [],
   "source": [
    "# Partition the data into train and test\n",
    "train = data[data['Date'] < '20150101']\n",
    "test = data[data['Date'] > '20141231']"
   ]
  },
  {
   "cell_type": "code",
   "execution_count": 20,
   "metadata": {},
   "outputs": [
    {
     "data": {
      "text/html": [
       "<div>\n",
       "<style scoped>\n",
       "    .dataframe tbody tr th:only-of-type {\n",
       "        vertical-align: middle;\n",
       "    }\n",
       "\n",
       "    .dataframe tbody tr th {\n",
       "        vertical-align: top;\n",
       "    }\n",
       "\n",
       "    .dataframe thead th {\n",
       "        text-align: right;\n",
       "    }\n",
       "</style>\n",
       "<table border=\"1\" class=\"dataframe\">\n",
       "  <thead>\n",
       "    <tr style=\"text-align: right;\">\n",
       "      <th></th>\n",
       "      <th>Date</th>\n",
       "      <th>Label</th>\n",
       "      <th>Top1</th>\n",
       "      <th>Top2</th>\n",
       "      <th>Top3</th>\n",
       "      <th>Top4</th>\n",
       "      <th>Top5</th>\n",
       "      <th>Top6</th>\n",
       "      <th>Top7</th>\n",
       "      <th>Top8</th>\n",
       "      <th>...</th>\n",
       "      <th>Top16</th>\n",
       "      <th>Top17</th>\n",
       "      <th>Top18</th>\n",
       "      <th>Top19</th>\n",
       "      <th>Top20</th>\n",
       "      <th>Top21</th>\n",
       "      <th>Top22</th>\n",
       "      <th>Top23</th>\n",
       "      <th>Top24</th>\n",
       "      <th>Top25</th>\n",
       "    </tr>\n",
       "  </thead>\n",
       "  <tbody>\n",
       "    <tr>\n",
       "      <th>0</th>\n",
       "      <td></td>\n",
       "      <td>0</td>\n",
       "      <td>b georgia  downs two russian warplanes  as cou...</td>\n",
       "      <td>b breaking  musharraf to be impeached</td>\n",
       "      <td>b russia today  columns of troops roll into so...</td>\n",
       "      <td>b russian tanks are moving towards the capital...</td>\n",
       "      <td>b afghan children raped with  impunity   u n  ...</td>\n",
       "      <td>b     russian tanks have entered south ossetia...</td>\n",
       "      <td>b breaking  georgia invades south ossetia  rus...</td>\n",
       "      <td>b the  enemy combatent  trials are nothing but...</td>\n",
       "      <td>...</td>\n",
       "      <td>b georgia invades south ossetia   if russia ge...</td>\n",
       "      <td>b al qaeda faces islamist backlash</td>\n",
       "      <td>b condoleezza rice   the us would not act to p...</td>\n",
       "      <td>b this is a busy day   the european union has ...</td>\n",
       "      <td>b georgia will withdraw       soldiers from ir...</td>\n",
       "      <td>b why the pentagon thinks attacking iran is a ...</td>\n",
       "      <td>b caucasus in crisis  georgia invades south os...</td>\n",
       "      <td>b indian shoe manufactory    and again in a se...</td>\n",
       "      <td>b visitors suffering from mental illnesses ban...</td>\n",
       "      <td>b no help for mexico s kidnapping surge</td>\n",
       "    </tr>\n",
       "    <tr>\n",
       "      <th>1</th>\n",
       "      <td></td>\n",
       "      <td>1</td>\n",
       "      <td>b why wont america and nato help us  if they w...</td>\n",
       "      <td>b bush puts foot down on georgian conflict</td>\n",
       "      <td>b jewish georgian minister  thanks to israeli ...</td>\n",
       "      <td>b georgian army flees in disarray as russians ...</td>\n",
       "      <td>b olympic opening ceremony fireworks  faked</td>\n",
       "      <td>b what were the mossad with fraudulent new zea...</td>\n",
       "      <td>b russia angered by israeli military sale to g...</td>\n",
       "      <td>b an american citizen living in s ossetia blam...</td>\n",
       "      <td>...</td>\n",
       "      <td>b israel and the us behind the georgian aggres...</td>\n",
       "      <td>b  do not believe tv  neither russian nor geor...</td>\n",
       "      <td>b riots are still going on in montreal  canada...</td>\n",
       "      <td>b china to overtake us as largest manufacturer</td>\n",
       "      <td>b war in south ossetia  pics</td>\n",
       "      <td>b israeli physicians group condemns state tort...</td>\n",
       "      <td>b  russia has just beaten the united states ov...</td>\n",
       "      <td>b perhaps  the  question about the georgia   r...</td>\n",
       "      <td>b russia is so much better at war</td>\n",
       "      <td>b so this is what it s come to  trading sex fo...</td>\n",
       "    </tr>\n",
       "    <tr>\n",
       "      <th>2</th>\n",
       "      <td></td>\n",
       "      <td>0</td>\n",
       "      <td>b remember that adorable   year old who sang a...</td>\n",
       "      <td>b russia  ends georgia operation</td>\n",
       "      <td>b  if we had no sexual harassment we would hav...</td>\n",
       "      <td>b al qa eda is losing support in iraq because ...</td>\n",
       "      <td>b ceasefire in georgia  putin outmaneuvers the...</td>\n",
       "      <td>b why microsoft and intel tried to kill the xo...</td>\n",
       "      <td>b stratfor  the russo georgian war and the bal...</td>\n",
       "      <td>b i m trying to get a sense of this whole geor...</td>\n",
       "      <td>...</td>\n",
       "      <td>b u s  troops still in georgia  did you know t...</td>\n",
       "      <td>b why russias response to georgia was right</td>\n",
       "      <td>b gorbachev accuses u s  of making a  serious ...</td>\n",
       "      <td>b russia  georgia  and nato  cold war two</td>\n",
       "      <td>b remember that adorable    year old who led y...</td>\n",
       "      <td>b war in georgia  the israeli connection</td>\n",
       "      <td>b all signs point to the us encouraging georgi...</td>\n",
       "      <td>b christopher king argues that the us and nato...</td>\n",
       "      <td>b america  the new mexico</td>\n",
       "      <td>b bbc news   asia pacific   extinction  by man...</td>\n",
       "    </tr>\n",
       "    <tr>\n",
       "      <th>3</th>\n",
       "      <td></td>\n",
       "      <td>0</td>\n",
       "      <td>b  u s  refuses israel weapons to attack iran ...</td>\n",
       "      <td>b when the president ordered to attack tskhinv...</td>\n",
       "      <td>b  israel clears troops who killed reuters cam...</td>\n",
       "      <td>b britain  s policy of being tough on drugs is...</td>\n",
       "      <td>b body of    year old found in trunk  latest  ...</td>\n",
       "      <td>b china has moved     million  quake survivors...</td>\n",
       "      <td>b bush announces operation get all up in russi...</td>\n",
       "      <td>b russian forces sink georgian ships</td>\n",
       "      <td>...</td>\n",
       "      <td>b elephants extinct by</td>\n",
       "      <td>b us humanitarian missions soon in georgia   i...</td>\n",
       "      <td>b georgia s ddos came from us sources</td>\n",
       "      <td>b russian convoy heads into georgia  violating...</td>\n",
       "      <td>b israeli defence minister  us against strike ...</td>\n",
       "      <td>b gorbachev  we had no choice</td>\n",
       "      <td>b witness  russian forces head towards tbilisi...</td>\n",
       "      <td>b  quarter of russians blame u s  for conflict...</td>\n",
       "      <td>b georgian president  says us military will ta...</td>\n",
       "      <td>b       nobel laureate aleksander solzhenitsyn...</td>\n",
       "    </tr>\n",
       "    <tr>\n",
       "      <th>4</th>\n",
       "      <td></td>\n",
       "      <td>1</td>\n",
       "      <td>b all the experts admit that we should legalis...</td>\n",
       "      <td>b war in south osetia      pictures made by a ...</td>\n",
       "      <td>b swedish wrestler ara abrahamian throws away ...</td>\n",
       "      <td>b russia exaggerated the death toll in south o...</td>\n",
       "      <td>b missile that killed   inside pakistan may ha...</td>\n",
       "      <td>b rushdie condemns random house s refusal to p...</td>\n",
       "      <td>b poland and us agree to missle defense deal  ...</td>\n",
       "      <td>b will the russians conquer tblisi  bet on it ...</td>\n",
       "      <td>...</td>\n",
       "      <td>b bank analyst forecast georgian crisis   days...</td>\n",
       "      <td>b georgia confict could set back russia s us r...</td>\n",
       "      <td>b war in the caucasus is as much the product o...</td>\n",
       "      <td>b  non media  photos of south ossetia georgia ...</td>\n",
       "      <td>b georgian tv reporter shot by russian sniper ...</td>\n",
       "      <td>b saudi arabia  mother moves to block child ma...</td>\n",
       "      <td>b taliban wages war on humanitarian aid workers</td>\n",
       "      <td>b russia  world   can forget about  georgia  s...</td>\n",
       "      <td>b darfur rebels accuse sudan of mounting major...</td>\n",
       "      <td>b philippines   peace advocate say muslims nee...</td>\n",
       "    </tr>\n",
       "  </tbody>\n",
       "</table>\n",
       "<p>5 rows × 27 columns</p>\n",
       "</div>"
      ],
      "text/plain": [
       "         Date  Label                                               Top1  \\\n",
       "0                  0  b georgia  downs two russian warplanes  as cou...   \n",
       "1                  1  b why wont america and nato help us  if they w...   \n",
       "2                  0  b remember that adorable   year old who sang a...   \n",
       "3                  0  b  u s  refuses israel weapons to attack iran ...   \n",
       "4                  1  b all the experts admit that we should legalis...   \n",
       "\n",
       "                                                Top2  \\\n",
       "0            b breaking  musharraf to be impeached     \n",
       "1        b bush puts foot down on georgian conflict    \n",
       "2                 b russia  ends georgia operation     \n",
       "3  b when the president ordered to attack tskhinv...   \n",
       "4  b war in south osetia      pictures made by a ...   \n",
       "\n",
       "                                                Top3  \\\n",
       "0  b russia today  columns of troops roll into so...   \n",
       "1  b jewish georgian minister  thanks to israeli ...   \n",
       "2  b  if we had no sexual harassment we would hav...   \n",
       "3  b  israel clears troops who killed reuters cam...   \n",
       "4  b swedish wrestler ara abrahamian throws away ...   \n",
       "\n",
       "                                                Top4  \\\n",
       "0  b russian tanks are moving towards the capital...   \n",
       "1  b georgian army flees in disarray as russians ...   \n",
       "2  b al qa eda is losing support in iraq because ...   \n",
       "3  b britain  s policy of being tough on drugs is...   \n",
       "4  b russia exaggerated the death toll in south o...   \n",
       "\n",
       "                                                Top5  \\\n",
       "0  b afghan children raped with  impunity   u n  ...   \n",
       "1      b olympic opening ceremony fireworks  faked     \n",
       "2  b ceasefire in georgia  putin outmaneuvers the...   \n",
       "3  b body of    year old found in trunk  latest  ...   \n",
       "4  b missile that killed   inside pakistan may ha...   \n",
       "\n",
       "                                                Top6  \\\n",
       "0  b     russian tanks have entered south ossetia...   \n",
       "1  b what were the mossad with fraudulent new zea...   \n",
       "2  b why microsoft and intel tried to kill the xo...   \n",
       "3  b china has moved     million  quake survivors...   \n",
       "4  b rushdie condemns random house s refusal to p...   \n",
       "\n",
       "                                                Top7  \\\n",
       "0  b breaking  georgia invades south ossetia  rus...   \n",
       "1  b russia angered by israeli military sale to g...   \n",
       "2  b stratfor  the russo georgian war and the bal...   \n",
       "3  b bush announces operation get all up in russi...   \n",
       "4  b poland and us agree to missle defense deal  ...   \n",
       "\n",
       "                                                Top8  ...  \\\n",
       "0  b the  enemy combatent  trials are nothing but...  ...   \n",
       "1  b an american citizen living in s ossetia blam...  ...   \n",
       "2  b i m trying to get a sense of this whole geor...  ...   \n",
       "3             b russian forces sink georgian ships    ...   \n",
       "4  b will the russians conquer tblisi  bet on it ...  ...   \n",
       "\n",
       "                                               Top16  \\\n",
       "0  b georgia invades south ossetia   if russia ge...   \n",
       "1  b israel and the us behind the georgian aggres...   \n",
       "2  b u s  troops still in georgia  did you know t...   \n",
       "3                      b elephants extinct by          \n",
       "4  b bank analyst forecast georgian crisis   days...   \n",
       "\n",
       "                                               Top17  \\\n",
       "0                b al qaeda faces islamist backlash    \n",
       "1  b  do not believe tv  neither russian nor geor...   \n",
       "2       b why russias response to georgia was right    \n",
       "3  b us humanitarian missions soon in georgia   i...   \n",
       "4  b georgia confict could set back russia s us r...   \n",
       "\n",
       "                                               Top18  \\\n",
       "0  b condoleezza rice   the us would not act to p...   \n",
       "1  b riots are still going on in montreal  canada...   \n",
       "2  b gorbachev accuses u s  of making a  serious ...   \n",
       "3             b georgia s ddos came from us sources    \n",
       "4  b war in the caucasus is as much the product o...   \n",
       "\n",
       "                                               Top19  \\\n",
       "0  b this is a busy day   the european union has ...   \n",
       "1    b china to overtake us as largest manufacturer    \n",
       "2         b russia  georgia  and nato  cold war two    \n",
       "3  b russian convoy heads into georgia  violating...   \n",
       "4  b  non media  photos of south ossetia georgia ...   \n",
       "\n",
       "                                               Top20  \\\n",
       "0  b georgia will withdraw       soldiers from ir...   \n",
       "1                     b war in south ossetia  pics     \n",
       "2  b remember that adorable    year old who led y...   \n",
       "3  b israeli defence minister  us against strike ...   \n",
       "4  b georgian tv reporter shot by russian sniper ...   \n",
       "\n",
       "                                               Top21  \\\n",
       "0  b why the pentagon thinks attacking iran is a ...   \n",
       "1  b israeli physicians group condemns state tort...   \n",
       "2          b war in georgia  the israeli connection    \n",
       "3                     b gorbachev  we had no choice    \n",
       "4  b saudi arabia  mother moves to block child ma...   \n",
       "\n",
       "                                               Top22  \\\n",
       "0  b caucasus in crisis  georgia invades south os...   \n",
       "1  b  russia has just beaten the united states ov...   \n",
       "2  b all signs point to the us encouraging georgi...   \n",
       "3  b witness  russian forces head towards tbilisi...   \n",
       "4   b taliban wages war on humanitarian aid workers    \n",
       "\n",
       "                                               Top23  \\\n",
       "0  b indian shoe manufactory    and again in a se...   \n",
       "1  b perhaps  the  question about the georgia   r...   \n",
       "2  b christopher king argues that the us and nato...   \n",
       "3  b  quarter of russians blame u s  for conflict...   \n",
       "4  b russia  world   can forget about  georgia  s...   \n",
       "\n",
       "                                               Top24  \\\n",
       "0  b visitors suffering from mental illnesses ban...   \n",
       "1                 b russia is so much better at war    \n",
       "2                        b america  the new mexico     \n",
       "3  b georgian president  says us military will ta...   \n",
       "4  b darfur rebels accuse sudan of mounting major...   \n",
       "\n",
       "                                               Top25  \n",
       "0           b no help for mexico s kidnapping surge   \n",
       "1  b so this is what it s come to  trading sex fo...  \n",
       "2  b bbc news   asia pacific   extinction  by man...  \n",
       "3  b       nobel laureate aleksander solzhenitsyn...  \n",
       "4  b philippines   peace advocate say muslims nee...  \n",
       "\n",
       "[5 rows x 27 columns]"
      ]
     },
     "execution_count": 20,
     "metadata": {},
     "output_type": "execute_result"
    }
   ],
   "source": [
    "# Remove punctuations and change all the letters to lowercase for both train and test\n",
    "all_data = [train,test]\n",
    "\n",
    "for df in all_data:\n",
    "    df.replace(\"[^a-zA-Z]\",\" \",regex=True, inplace=True)\n",
    "    for i in df.columns:\n",
    "        if i=='Date':\n",
    "            continue\n",
    "        if i=='Label':\n",
    "            continue\n",
    "        df[i] = df[i].str.lower()\n",
    "\n",
    "train.head()"
   ]
  },
  {
   "cell_type": "code",
   "execution_count": 21,
   "metadata": {},
   "outputs": [
    {
     "data": {
      "text/plain": [
       "'b georgia  downs two russian warplanes  as countries move to brink of war  b breaking  musharraf to be impeached   b russia today  columns of troops roll into south ossetia  footage from fighting  youtube   b russian tanks are moving towards the capital of south ossetia  which has reportedly been completely destroyed by georgian artillery fire  b afghan children raped with  impunity   u n  official says   this is sick  a three year old was raped and they do nothing  b     russian tanks have entered south ossetia whilst georgia shoots down two russian jets   b breaking  georgia invades south ossetia  russia warned it would intervene on so s side  b the  enemy combatent  trials are nothing but a sham  salim haman has been sentenced to       years  but will be kept longer anyway just because they feel like it   b georgian troops retreat from s  osettain capital  presumably leaving several hundred people killed   video   b did the u s  prep georgia for war with russia   b rice gives green light for israel to attack iran  says u s  has no veto over israeli military ops  b announcing class action lawsuit on behalf of american public against the fbi  b so   russia and georgia are at war and the nyt s top story is opening ceremonies of the olympics   what a fucking disgrace and yet further proof of the decline of journalism   b china tells bush to stay out of other countries  affairs  b did world war iii start today   b georgia invades south ossetia   if russia gets involved  will nato absorb georgia and unleash a full scale war   b al qaeda faces islamist backlash  b condoleezza rice   the us would not act to prevent an israeli strike on iran   israeli defense minister ehud barak   israel is prepared for uncompromising victory in the case of military hostilities    b this is a busy day   the european union has approved new sanctions against iran in protest at its nuclear programme   b georgia will withdraw       soldiers from iraq to help fight off russian forces in georgia s breakaway region of south ossetia  b why the pentagon thinks attacking iran is a bad idea   us news  amp  world report  b caucasus in crisis  georgia invades south ossetia  b indian shoe manufactory    and again in a series of  you do not like your work    b visitors suffering from mental illnesses banned from olympics  b no help for mexico s kidnapping surge '"
      ]
     },
     "execution_count": 21,
     "metadata": {},
     "output_type": "execute_result"
    }
   ],
   "source": [
    "# Combine all the headlines in train data into one and append them into a list \n",
    "train_headlines = []\n",
    "for row in range(0,len(train.index)):\n",
    "    train_headlines.append(' '.join(str(x) for x in train.iloc[row,2:]))\n",
    "train_headlines[0]"
   ]
  },
  {
   "cell_type": "code",
   "execution_count": 22,
   "metadata": {},
   "outputs": [
    {
     "data": {
      "text/plain": [
       "'most cases of cancer are the result of sheer bad luck rather than unhealthy lifestyles  diet or even inherited genes  new research suggests  random mutations that occur in dna when cells divide are responsible for two thirds of adult cancers across a wide range of tissues  iran dismissed united states efforts to fight islamic state as a ploy to advance u s  policies in the region   the reality is that the united states is not acting to eliminate daesh  they are not even interested in weakening daesh  they are only interested in managing it  poll  one in   germans would join anti muslim marches uk royal family s prince andrew named in us lawsuit over underage sex allegations some    asylum seekers refused to leave the bus when they arrived at their destination in rural northern sweden  demanding that they be taken back to malm or  some big city   pakistani boat blows self up after india navy chase  all four people on board the vessel from near the pakistani port city of karachi are believed to have been killed in the dramatic episode in the arabian sea on new year s eve  according to india s defence ministry  sweden hit by third mosque arson attack in a week     cars set alight during french new year salaries for top ceos rose twice as fast as average canadian since recession  study norway violated equal pay law  judge says  judge finds consulate employee was unjustly paid         less than her male counterpart imam wants radical recruiters of muslim youth in canada identified and dealt with saudi arabia beheaded    people in       the most in years  a living hell  for slaves on remote south korean islands   slavery thrives on this chain of rural islands off south korea s rugged southwest coast  nurtured by a long history of exploitation and the demands of trying to squeeze a living from the sea  worlds     richest get richer  adding    bn in      rental car stereos infringe copyright  music rights group says ukrainian minister threatens tv channel with closure for airing russian entertainers palestinian president mahmoud abbas has entered into his most serious confrontation yet with israel by signing onto the international criminal court  his decision on wednesday gives the court jurisdiction over crimes committed in palestinian lands  israeli security center publishes names of    killed terrorists  concealed by hamas  the year      was the deadliest year yet in syria s four year conflict  with over        killed a secret underground complex built by the nazis that may have been used for the development of wmds  including a nuclear bomb  has been uncovered in austria  restrictions on web freedom a major global issue in      austrian journalist erich mchel delivered a presentation in hamburg at the annual meeting of the chaos computer club on monday december     detailing the various locations where the us nsa has been actively collecting and processing electronic intelligence in vienna  thousands of ukraine nationalists march in kiev chinas new years resolution  no more harvesting executed prisoners organs authorities pull plug on russia s last politically independent tv station'"
      ]
     },
     "execution_count": 22,
     "metadata": {},
     "output_type": "execute_result"
    }
   ],
   "source": [
    "# Combine all the headlines in test data into one and append them into a list \n",
    "test_headlines = []\n",
    "for row in range(0,len(test.index)):\n",
    "    test_headlines.append(' '.join(str(x) for x in test.iloc[row,2:27]))\n",
    "test_headlines[0]"
   ]
  },
  {
   "cell_type": "code",
   "execution_count": 23,
   "metadata": {},
   "outputs": [],
   "source": [
    "# Create CountVectorizer to vectorize train and test\n",
    "countvector = CountVectorizer(ngram_range=(2,2), max_features=100000)"
   ]
  },
  {
   "cell_type": "markdown",
   "metadata": {},
   "source": [
    "> Now you can create your `X` and `y` vectors. By convention, `X` is used for the input vector (feature vector), and `y` is used for the labels."
   ]
  },
  {
   "cell_type": "code",
   "execution_count": 24,
   "metadata": {},
   "outputs": [],
   "source": [
    "# Apply CountVectorizer on train_headlines list\n",
    "X_train = countvector.fit_transform(train_headlines)\n",
    "y_train = train['Label']"
   ]
  },
  {
   "cell_type": "code",
   "execution_count": 25,
   "metadata": {},
   "outputs": [],
   "source": [
    "# Apply CountVectorizer on test_headlines list  \n",
    "X_test = countvector.transform(test_headlines)\n",
    "y_test = test['Label']"
   ]
  },
  {
   "cell_type": "markdown",
   "metadata": {},
   "source": [
    "> Make sure that the dimensionality of your `X_train, y_train, X_test, y_test` match with the correct outputs provided below for your reference."
   ]
  },
  {
   "cell_type": "code",
   "execution_count": 26,
   "metadata": {},
   "outputs": [
    {
     "data": {
      "text/plain": [
       "<1863x100000 sparse matrix of type '<class 'numpy.int64'>'\n",
       "\twith 467813 stored elements in Compressed Sparse Row format>"
      ]
     },
     "execution_count": 26,
     "metadata": {},
     "output_type": "execute_result"
    }
   ],
   "source": [
    "X_train"
   ]
  },
  {
   "cell_type": "code",
   "execution_count": 27,
   "metadata": {},
   "outputs": [
    {
     "data": {
      "text/plain": [
       "<378x100000 sparse matrix of type '<class 'numpy.int64'>'\n",
       "\twith 89144 stored elements in Compressed Sparse Row format>"
      ]
     },
     "execution_count": 27,
     "metadata": {},
     "output_type": "execute_result"
    }
   ],
   "source": [
    "X_test"
   ]
  },
  {
   "cell_type": "code",
   "execution_count": 28,
   "metadata": {},
   "outputs": [
    {
     "name": "stdout",
     "output_type": "stream",
     "text": [
      "(1863,)\n",
      "(378,)\n"
     ]
    }
   ],
   "source": [
    "print(y_train.shape)\n",
    "print(y_test.shape)"
   ]
  },
  {
   "cell_type": "markdown",
   "metadata": {},
   "source": [
    "## Part-II Binary Classification with Random Forest and XGBoost"
   ]
  },
  {
   "cell_type": "markdown",
   "metadata": {},
   "source": [
    "Now that the data is prepared, you can train and test classifiers for binary classification. You are going to use Random Forest and XGBoost classifiers. Both of these classifiers are commonly used in ML projects and every ML engineer or Data Scientist should know how to work with them.\n",
    "\n",
    "Notice that we use [`.fit()`](https://scikit-learn.org/stable/modules/generated/sklearn.ensemble.RandomForestClassifier.html#sklearn.ensemble.RandomForestClassifier.fit) method applied on `(X_train, y_train)` for training and [`.predict()`](https://scikit-learn.org/stable/modules/generated/sklearn.ensemble.RandomForestClassifier.html#sklearn.ensemble.RandomForestClassifier.predict) method applied on `(X_test)` without showing the lables `y_test` for making predictions (testing). Click on the methods and read their sklearn documentation for further information. XGBoost documentation for [`.fit()`](https://xgboost.readthedocs.io/en/latest/python/python_api.html#xgboost.dask.DaskXGBRanker.fit) and [`.predict()`](https://xgboost.readthedocs.io/en/latest/python/python_api.html#xgboost.dask.DaskXGBRanker.predict) methods suggests that their usage is similar to sklearn. You should also check the textbook codes in Chapter-3 and the supplementary materials (Jupyter Notebooks) to learn more."
   ]
  },
  {
   "cell_type": "code",
   "execution_count": 29,
   "metadata": {},
   "outputs": [],
   "source": [
    "# Create an rf classifier and train it on (X_train, y_train)\n",
    "rf = RandomForestClassifier()\n",
    "rf = rf.fit(X_train, y_train)"
   ]
  },
  {
   "cell_type": "code",
   "execution_count": 30,
   "metadata": {},
   "outputs": [],
   "source": [
    "# Test rf on X_test\n",
    "rf_predictions = rf.predict(X_test)"
   ]
  },
  {
   "cell_type": "code",
   "execution_count": 31,
   "metadata": {},
   "outputs": [
    {
     "name": "stdout",
     "output_type": "stream",
     "text": [
      "Random Forest confusion matrix: \n",
      " [[133  53]\n",
      " [  9 183]]\n"
     ]
    }
   ],
   "source": [
    "# Print confusion matrix for rf\n",
    "rf_matrix = confusion_matrix(y_test, rf_predictions)\n",
    "print('Random Forest confusion matrix: \\n {}'.format(rf_matrix))"
   ]
  },
  {
   "cell_type": "code",
   "execution_count": 32,
   "metadata": {},
   "outputs": [
    {
     "name": "stdout",
     "output_type": "stream",
     "text": [
      "Random Forest accuracy:  0.8359788359788359\n"
     ]
    }
   ],
   "source": [
    "# Compute the accuracy score for rf\n",
    "rf_acc = accuracy_score(y_test, rf_predictions)\n",
    "print('Random Forest accuracy: ', rf_acc)"
   ]
  },
  {
   "cell_type": "markdown",
   "metadata": {},
   "source": [
    "> Next, train and test XGBoost classifier."
   ]
  },
  {
   "cell_type": "code",
   "execution_count": 35,
   "metadata": {},
   "outputs": [
    {
     "name": "stdout",
     "output_type": "stream",
     "text": [
      "[19:19:40] WARNING: /Users/runner/miniforge3/conda-bld/xgboost_1607604592557/work/src/learner.cc:1061: Starting in XGBoost 1.3.0, the default evaluation metric used with the objective 'binary:logistic' was changed from 'error' to 'logloss'. Explicitly set eval_metric if you'd like to restore the old behavior.\n"
     ]
    }
   ],
   "source": [
    "# Train and test XGBoost, ignore the version warning\n",
    "xgb = XGBClassifier()\n",
    "xgb.fit(X_train, y_train)\n",
    "\n",
    "xgb_predictions = xgb.predict(X_test)"
   ]
  },
  {
   "cell_type": "code",
   "execution_count": 36,
   "metadata": {},
   "outputs": [
    {
     "name": "stdout",
     "output_type": "stream",
     "text": [
      "XGBoost accuracy:  0.8306878306878307\n",
      "XGBoost confusion matrix: \n",
      " [[154  32]\n",
      " [ 32 160]]\n"
     ]
    }
   ],
   "source": [
    "# Compute the accuracy and confusion matrix for XGBoost\n",
    "xgb_acc = accuracy_score(y_test, xgb_predictions)\n",
    "print('XGBoost accuracy: ', xgb_acc)\n",
    "xgb_matrix = confusion_matrix(y_test, xgb_predictions)\n",
    "print('XGBoost confusion matrix: \\n {}'.format(xgb_matrix))"
   ]
  },
  {
   "cell_type": "markdown",
   "metadata": {},
   "source": [
    "### Part-II Questions"
   ]
  },
  {
   "cell_type": "markdown",
   "metadata": {},
   "source": [
    "- Q1 [8 points] - Check sklearn documentation for [`confusion_matrix`](https://scikit-learn.org/stable/modules/generated/sklearn.metrics.confusion_matrix.html) and specify the number of True Positives (TP), True Negatives (TN), False Positives (FP) and False Negatives (FN) for Random Forest and XGBoost classifiers."
   ]
  },
  {
   "cell_type": "markdown",
   "metadata": {},
   "source": [
    "#### Answer 1: \n",
    "Using matrix notation, we interpret the documentation for confusion_matrix: \n",
    "Ci,j where i are rows and j are columns\n",
    "Ci,j where i are predicted classes and j are factual classes\n",
    "|C0,0 True negatives | C0,1 false positives|\n",
    "|C1,0 False negatives | C1,1 True positives | "
   ]
  },
  {
   "cell_type": "markdown",
   "metadata": {},
   "source": [
    "- Q2 [2 points] - Why don't you include `y_test` when you apply `.predict()` method on `X_test`?"
   ]
  },
  {
   "cell_type": "markdown",
   "metadata": {},
   "source": [
    "#### Answer 2 \n",
    ".predict() must take input, X, and produce output, y, based on the relationship inferred during training. \n",
    "To pass in the correct labels in y_test would defeat the purpose of examining the model's predictive value. \n",
    "It probably doesn't need to mentioned that .predict doesn't take correct labels as input anyway. "
   ]
  },
  {
   "cell_type": "markdown",
   "metadata": {},
   "source": [
    "- Q3 [4 points] - What is the data type of `rf_predictions` and `xgb_predictions` and what are their shapes? Explain why you get such a shape for predictions. "
   ]
  },
  {
   "cell_type": "markdown",
   "metadata": {},
   "source": [
    "#### Answer 3\n",
    "rf_predictions holds a numpy ndarray of predictions. \n",
    "xgb_predictions holds a numpy array of predictions. \n"
   ]
  },
  {
   "cell_type": "markdown",
   "metadata": {},
   "source": [
    "## Part-III Hyperparameter Tuning, Grid Search, and ROC Curves"
   ]
  },
  {
   "cell_type": "markdown",
   "metadata": {},
   "source": [
    "Next, you're going to tune the hyperparameters of the random forest classifier using [`GridSearchCV`](https://scikit-learn.org/stable/modules/generated/sklearn.model_selection.GridSearchCV.html) which tries different combinations of hyperparameter values to find the best values. Read the documentation to learn more. There is also an example in Chapter-2 of the textbook (page 76) that you should read. Running this part may take a while (**depending on your computer speed it may take more than an hour**).\n",
    "\n",
    "> `param_grid` argument of `GridSearchCV` is a dictionary that contains the hyperparameters and their corresponding values that you should include in your search. Other than the `param_grid`, you can use the default arguments of `GridSearchCV`. You may want to set `verbose=True` to get more info in the output.\n",
    "\n",
    "> **The minimum requirement** for this part of the assignment is that you should try the following hyperparameters, each with at least two values:\n",
    "`n_estimators, criterion, bootstrap, max_depth, max_features, min_samples_leaf, min_samples_split`"
   ]
  },
  {
   "cell_type": "code",
   "execution_count": 46,
   "metadata": {},
   "outputs": [
    {
     "name": "stdout",
     "output_type": "stream",
     "text": [
      "Fitting 5 folds for each of 128 candidates, totalling 640 fits\n",
      "Grid search for hyperparameter tuning of random forest classifier\n",
      "Best Parameters: {'bootstrap': True, 'criterion': 'gini', 'max_depth': None, 'max_features': 'sqrt', 'min_samples_leaf': 2, 'min_samples_split': 2, 'n_estimators': 25}\n"
     ]
    }
   ],
   "source": [
    "# Perform a GridSearch on rf hyperparameters\n",
    "# random forest classifier\n",
    "rf_clf = RandomForestClassifier()\n",
    "\n",
    "#first dict for RandomForestClassifier parameters\n",
    "param_grid = [{\n",
    "    'n_estimators':[20, 25], \n",
    "    'criterion':[\"gini\", \"entropy\"],\n",
    "    'max_depth':[None, 50],\n",
    "    'min_samples_split':[1, 2],\n",
    "    'min_samples_leaf':[1, 2],\n",
    "    'max_features':[None, \"sqrt\"],\n",
    "    'bootstrap':[True, False]\n",
    "    }]\n",
    "\n",
    "grid_search = GridSearchCV(rf_clf, param_grid, verbose=True)\n",
    "\n",
    "# Train best_rf_clf on (X_train, y_train)\n",
    "best_rf_clf = grid_search.fit(X_train, y_train)\n",
    "print('Grid search for hyperparameter tuning of random forest classifier')\n",
    "print('Best Parameters: ' + str(best_rf_clf.best_params_))"
   ]
  },
  {
   "cell_type": "markdown",
   "metadata": {},
   "source": [
    "1st run:^8:15 start ^10:15 interrupt\n",
    "2nd run: 10:15 restart with differen parameters 11:30 finish => 0.849\n",
    "3rd run: n_estimator to 20, 40 from 10, 20. start:11:45 , maybe CPU went to sleep, interrupt\n",
    "4th run: n_estimator to 20, 25 at 9:09 am, 10:45 saw finished, good RF accuracy "
   ]
  },
  {
   "cell_type": "code",
   "execution_count": 50,
   "metadata": {},
   "outputs": [
    {
     "name": "stdout",
     "output_type": "stream",
     "text": [
      "RandomForestClassifier(max_features='sqrt', min_samples_leaf=2, n_estimators=25)\n"
     ]
    }
   ],
   "source": [
    "best_rf = best_rf_clf.best_estimator_\n",
    "print(best_rf)"
   ]
  },
  {
   "cell_type": "code",
   "execution_count": 51,
   "metadata": {},
   "outputs": [],
   "source": [
    "# Train and test best_rf\n",
    "best_rf.fit(X_train, y_train)\n",
    "best_rf_predictions = best_rf.predict(X_test)"
   ]
  },
  {
   "cell_type": "markdown",
   "metadata": {},
   "source": [
    "> The **minimum required accuracy** for `best_rf` is 0.85."
   ]
  },
  {
   "cell_type": "code",
   "execution_count": 52,
   "metadata": {
    "scrolled": true
   },
   "outputs": [
    {
     "name": "stdout",
     "output_type": "stream",
     "text": [
      "Best RF Accuracy:  0.8650793650793651\n",
      "Best RF confusion matrix: \n",
      " [[133  53]\n",
      " [  9 183]]\n"
     ]
    }
   ],
   "source": [
    "best_rf_acc = accuracy_score(y_test, best_rf_predictions)\n",
    "best_rf_matrix = confusion_matrix(y_test, rf_predictions)\n",
    "print('Best RF Accuracy: ', best_rf_acc)\n",
    "print('Best RF confusion matrix: \\n {}'.format(best_rf_matrix))"
   ]
  },
  {
   "cell_type": "markdown",
   "metadata": {},
   "source": [
    "> The following cells show how you can plot ROC curve of random forest classifier using `fpr`, `tpr`, and `threshold` returned by [`metrics.roc_curve`](https://scikit-learn.org/stable/modules/generated/sklearn.metrics.roc_curve.html) and class probabilities using [`predict_proba()`](https://scikit-learn.org/stable/modules/generated/sklearn.ensemble.RandomForestClassifier.html#sklearn.ensemble.RandomForestClassifier.predict_proba) method of [`RandomForest`](https://scikit-learn.org/stable/modules/generated/sklearn.ensemble.RandomForestClassifier.html)."
   ]
  },
  {
   "cell_type": "code",
   "execution_count": 53,
   "metadata": {},
   "outputs": [],
   "source": [
    "# Get class probabilities, fpr, tpr and threshold for Random Forest classifier\n",
    "rf_probs = best_rf.predict_proba(X_test)\n",
    "rf_preds = rf_probs[:,1]\n",
    "rf_fpr, rf_tpr, rf_threshold = metrics.roc_curve(y_test, rf_preds)\n",
    "rf_roc_auc = metrics.auc(rf_fpr, rf_tpr)"
   ]
  },
  {
   "cell_type": "code",
   "execution_count": 54,
   "metadata": {},
   "outputs": [
    {
     "data": {
      "text/plain": [
       "Text(0.5, 0, 'False Positive Rate')"
      ]
     },
     "execution_count": 54,
     "metadata": {},
     "output_type": "execute_result"
    },
    {
     "data": {
      "image/png": "[encoded data removed]",
      "text/plain": [
       "<Figure size 432x288 with 1 Axes>"
      ]
     },
     "metadata": {
      "needs_background": "light"
     },
     "output_type": "display_data"
    }
   ],
   "source": [
    "# Plot ROC curve for Random Forest classifier\n",
    "plt.title('ROC')\n",
    "plt.plot(rf_fpr, rf_tpr, 'b', label = 'AUC_RF = %0.2f' % rf_roc_auc)\n",
    "plt.legend(loc = 'lower right')\n",
    "plt.plot([0, 1], [0, 1],'r--')\n",
    "plt.xlim([0, 1])\n",
    "plt.ylim([0, 1])\n",
    "plt.ylabel('True Positive Rate')\n",
    "plt.xlabel('False Positive Rate')"
   ]
  },
  {
   "cell_type": "markdown",
   "metadata": {},
   "source": [
    "> Next, you should plot ROC curves of BOTH classifiers in one plot. You should first get the probs, preds, fpr, tpr, and threshold for `xgb`. Your plot should be complete and match with the required specifications. A complete plot has title, axis labels and legend."
   ]
  },
  {
   "cell_type": "code",
   "execution_count": 55,
   "metadata": {},
   "outputs": [],
   "source": [
    "# Get class probabilities, fpr, tpr and threshold for XGBoost classifier\n",
    "# Hint: It should be very similar to rf\n",
    "xgb_probs = xgb.predict_proba(X_test)\n",
    "xgb_preds = xgb_probs[:,1]\n",
    "xgb_fpr, xgb_tpr, xgb_threshold = metrics.roc_curve(y_test, xgb_preds)\n",
    "xgb_roc_auc = metrics.auc(xgb_fpr, xgb_tpr)"
   ]
  },
  {
   "cell_type": "code",
   "execution_count": 60,
   "metadata": {},
   "outputs": [
    {
     "data": {
      "text/plain": [
       "Text(0.5, 0, 'False Positive Rate')"
      ]
     },
     "execution_count": 60,
     "metadata": {},
     "output_type": "execute_result"
    },
    {
     "data": {
      "image/png": "[encoded data removed]",
      "text/plain": [
       "<Figure size 432x288 with 1 Axes>"
      ]
     },
     "metadata": {
      "needs_background": "light"
     },
     "output_type": "display_data"
    }
   ],
   "source": [
    "# Plot ROC for BOTH classifiers rf and xgb with different colors in one plot,\n",
    "# and with AUC scores shown on the 'lower right' of the plot.\n",
    "\n",
    "# Write as many number of lines of code as needed.\n",
    "\n",
    "# Hint: You may use Random Forest ROC curve as a reference for writing your code\n",
    "# Your plot should be complete with title, axis labels and legend\n",
    "# Incomplete plots get zero credit!\n",
    "plt.title('ROC - rf & xgb')\n",
    "plt.plot(rf_fpr, rf_tpr, 'b', label = 'AUC_RF = %0.2f' % rf_roc_auc)  \n",
    "plt.plot(xgb_fpr, xgb_tpr, 'g', label = 'AUC_XGF = %0.2f' % xgb_roc_auc)\n",
    "plt.legend(loc = 'lower right')\n",
    "plt.plot([0, 1], [0, 1],'r--')\n",
    "plt.xlim([0, 1])\n",
    "plt.ylim([0, 1])\n",
    "plt.ylabel('True Positive Rate')\n",
    "plt.xlabel('False Positive Rate')"
   ]
  },
  {
   "cell_type": "markdown",
   "metadata": {},
   "source": [
    "### Part-III Questions"
   ]
  },
  {
   "cell_type": "markdown",
   "metadata": {},
   "source": [
    "- Q4 [2 points]- Which classifier has a higher recall? You should include either your calculation or your code to compute the recall score. Add cells for your computation/code as necessary."
   ]
  },
  {
   "cell_type": "code",
   "execution_count": 70,
   "metadata": {},
   "outputs": [
    {
     "name": "stdout",
     "output_type": "stream",
     "text": [
      "Best RF confusion matrix: \n",
      " [[133  53]\n",
      " [  9 183]]\n",
      "\n",
      "Random Forest Recall: 0.953125\n"
     ]
    }
   ],
   "source": [
    "# Random Forest Confusion matrix \n",
    "# |TN | FP|\n",
    "# |FN | TP|\n",
    "best_rf_matrix = confusion_matrix(y_test, rf_predictions)\n",
    "print('Best RF confusion matrix: \\n {}'.format(best_rf_matrix))\n",
    "\n",
    "#recall = TP/TP+FN\n",
    "rf_recall = 183/(183+9)\n",
    "print('\\nRandom Forest Recall:', rf_recall) "
   ]
  },
  {
   "cell_type": "code",
   "execution_count": 71,
   "metadata": {},
   "outputs": [
    {
     "name": "stdout",
     "output_type": "stream",
     "text": [
      "XGBoost confusion matrix: \n",
      " [[154  32]\n",
      " [ 32 160]]\n",
      "\n",
      "XGB Recall: 0.8333333333333334\n"
     ]
    }
   ],
   "source": [
    "xgb_matrix = confusion_matrix(y_test, xgb_predictions)\n",
    "print('XGBoost confusion matrix: \\n {}'.format(xgb_matrix))\n",
    "\n",
    "#recall = TP/TP+FN\n",
    "xgb_recall = 160/(160+32)\n",
    "print('\\nXGB Recall:', xgb_recall) "
   ]
  },
  {
   "cell_type": "markdown",
   "metadata": {},
   "source": [
    "#### Answer 4\n",
    "In the cells above, we recall the confusion matrices for the models in question, and we see clearly that Random Forest model has the higher recall value. "
   ]
  },
  {
   "cell_type": "markdown",
   "metadata": {},
   "source": [
    "- Q5 [2 points]- Checking the ROC curves of Random Forest and XGBoost, and without seeing AUC scores, how would you determine which classifier has a better performance? Explain."
   ]
  },
  {
   "cell_type": "markdown",
   "metadata": {},
   "source": [
    "#### Answer 5\n",
    "To determine which classifier performs better, I look for the graph most consistently close to the top left of the grid. The more the graph hugs the top left of the grid the greater the area under the curve, and the better the model performs. When the same line also quickly approaches the 100% boundary, my confidence rises that blue RF graph does not hover below the 100% boundary and instead quickly intersects it, also increasing the area under the curve. \n"
   ]
  },
  {
   "cell_type": "markdown",
   "metadata": {},
   "source": [
    "## Grading\n",
    "\n",
    "Assignment-1 has a maximum of 100 points. Make sure that you get the correct outputs for all cells that you implement and give complete answers to all questions. Also, your notebook should be written with no grammatical and spelling errors and should be easy-to-read.\n",
    "\n",
    "The breakdown of the 100 points is as follows:\n",
    "\n",
    "- Part-I - 20 points\n",
    "   \n",
    "\n",
    "- Part-II - 40 points\n",
    "    - Implementation and results: 26 points\n",
    "    - Part-II Questions: 14 points\n",
    "    \n",
    "\n",
    "- Part-III - 40 points\n",
    "    - Implementation and results: 36 points **Note**: Incomplete GridSearch and/or ROC plots get zero credit!\n",
    "    - Part-III Questions: 4 points\n",
    "    \n",
    "\n",
    "<b>Note: </b>Follow the instructions of each section carefully. Up to 10 points may be deducted if your submitted notebook is not easy to read and follow or if it has grammatical, spelling or formatting issues."
   ]
  },
  {
   "cell_type": "markdown",
   "metadata": {},
   "source": [
    "Name your notebook ```Lastname-A1.ipynb```. Submit the completed notebook using the ```Assignment-1``` link on Blackboard.\n",
    "\n",
    "Grading will be based on \n",
    "\n",
    "  * correct implementation, correct answer to the questions, and\n",
    "  * readability of the notebook.\n",
    "  \n",
    "<font color=red><b>Due Date: Thursday Feb 18, 11:59PM.</b></font>"
   ]
  }
 ],
 "metadata": {
  "kernelspec": {
   "display_name": "firstCustomJupyterEnv",
   "language": "python",
   "name": "firstcustomjupyterenv"
  },
  "language_info": {
   "codemirror_mode": {
    "name": "ipython",
    "version": 3
   },
   "file_extension": ".py",
   "mimetype": "text/x-python",
   "name": "python",
   "nbconvert_exporter": "python",
   "pygments_lexer": "ipython3",
   "version": "3.8.6"
  }
 },
 "nbformat": 4,
 "nbformat_minor": 2
}
